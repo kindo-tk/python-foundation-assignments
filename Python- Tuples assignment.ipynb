{
 "cells": [
  {
   "cell_type": "markdown",
   "id": "5f6eb537",
   "metadata": {},
   "source": [
    "# Python- Tuples"
   ]
  },
  {
   "cell_type": "markdown",
   "id": "13a03c8b",
   "metadata": {},
   "source": [
    "# Q1. What is a tuple in Python?"
   ]
  },
  {
   "cell_type": "markdown",
   "id": "35d146b3",
   "metadata": {},
   "source": [
    "In Python, a tuple is an ordered, immutable, heterogeneous collection of elements.\n",
    "To create a tuple, we can either enclose a list of objects in parentheses or use the tuple() function.\n",
    "Tuples are immutable, which means once we create a tuple, we cannot change its contents (add, remove, or modify elements). "
   ]
  },
  {
   "cell_type": "code",
   "execution_count": 1,
   "id": "b231c520",
   "metadata": {},
   "outputs": [
    {
     "data": {
      "text/plain": [
       "tuple"
      ]
     },
     "execution_count": 1,
     "metadata": {},
     "output_type": "execute_result"
    }
   ],
   "source": [
    "#for example\n",
    "tup=(1,2,\"TK\",5.8)\n",
    "type(tup)"
   ]
  },
  {
   "cell_type": "markdown",
   "id": "fd7f9fef",
   "metadata": {},
   "source": [
    "# Q2. How do you create a tuple in Python?"
   ]
  },
  {
   "cell_type": "markdown",
   "id": "67659e4f",
   "metadata": {},
   "source": [
    "To create a tuple, we can either enclose a list of objects in parentheses or use the tuple() function."
   ]
  },
  {
   "cell_type": "code",
   "execution_count": 3,
   "id": "423d419d",
   "metadata": {},
   "outputs": [
    {
     "name": "stdout",
     "output_type": "stream",
     "text": [
      "(1, 2, 3, 4, 5) <class 'tuple'>\n",
      "(1, 3, 4, 6, 8, 9, 'tu') <class 'tuple'>\n"
     ]
    }
   ],
   "source": [
    "#for example\n",
    "\n",
    "tup1=(1,2,3,4,5)\n",
    "li=[1,3,4,6,8,9,\"tu\"]\n",
    "tup2=tuple(li)\n",
    "print(tup1,type(tup1))\n",
    "print(tup2,type(tup2))"
   ]
  },
  {
   "cell_type": "markdown",
   "id": "6d1f2ae4",
   "metadata": {},
   "source": [
    "# Q3. What is the difference between a tuple and a list in Python?"
   ]
  },
  {
   "cell_type": "markdown",
   "id": "b7611794",
   "metadata": {},
   "source": [
    "The main difference between a tuple and a list in python is that list is mutable whereas tuple is immutable, i.e once we create a tuple, we cannot change its contents (add, remove, or modify elements). "
   ]
  },
  {
   "cell_type": "markdown",
   "id": "85e4125a",
   "metadata": {},
   "source": [
    "# Q4. Can a tuple be changed in Python?"
   ]
  },
  {
   "cell_type": "markdown",
   "id": "7888d13d",
   "metadata": {},
   "source": [
    "No a tuple can't be changed in python once it has been declared as tuple is immutable "
   ]
  },
  {
   "cell_type": "markdown",
   "id": "8bc2323e",
   "metadata": {},
   "source": [
    "# Q5. How do you access elements in a tuple?"
   ]
  },
  {
   "cell_type": "markdown",
   "id": "c79f1e1b",
   "metadata": {},
   "source": [
    "To access elements in a tuple in Python, we can use the index operator [].\n",
    "The index operator takes a single argument, which is the index of the element we want to access.\n",
    "The index starts at 0 for the first element in the tuple"
   ]
  },
  {
   "cell_type": "code",
   "execution_count": 4,
   "id": "a08a67f9",
   "metadata": {},
   "outputs": [
    {
     "name": "stdout",
     "output_type": "stream",
     "text": [
      "First element of the tuple is: 1\n",
      "Fifth element of the tuple is: string\n"
     ]
    }
   ],
   "source": [
    "#for example \n",
    "tup1=(1,2,3,4,\"string\",2.5)\n",
    "print(\"First element of the tuple is:\",tup1[0])\n",
    "print(\"Fifth element of the tuple is:\",tup1[4])"
   ]
  },
  {
   "cell_type": "markdown",
   "id": "a1d0b5f1",
   "metadata": {},
   "source": [
    "# Q6. How do you unpack a tuple in Python?"
   ]
  },
  {
   "cell_type": "markdown",
   "id": "f4c51ed2",
   "metadata": {},
   "source": [
    "In Python, you can unpack a tuple by assigning its individual elements to separate variables."
   ]
  },
  {
   "cell_type": "code",
   "execution_count": 7,
   "id": "fa2503d0",
   "metadata": {},
   "outputs": [
    {
     "name": "stdout",
     "output_type": "stream",
     "text": [
      "a = 1\n",
      "b = 2\n",
      "c = 3\n"
     ]
    }
   ],
   "source": [
    "#for eg:\n",
    "my_tuple=(1,2,3)\n",
    "a, b, c = my_tuple\n",
    "\n",
    "# Now, the values are assigned to the variables a, b, and c\n",
    "print(\"a =\",a) \n",
    "print(\"b =\",b)  \n",
    "print(\"c =\",c)"
   ]
  },
  {
   "cell_type": "code",
   "execution_count": null,
   "id": "a5d640f2",
   "metadata": {},
   "outputs": [],
   "source": []
  }
 ],
 "metadata": {
  "kernelspec": {
   "display_name": "Python 3 (ipykernel)",
   "language": "python",
   "name": "python3"
  },
  "language_info": {
   "codemirror_mode": {
    "name": "ipython",
    "version": 3
   },
   "file_extension": ".py",
   "mimetype": "text/x-python",
   "name": "python",
   "nbconvert_exporter": "python",
   "pygments_lexer": "ipython3",
   "version": "3.9.13"
  }
 },
 "nbformat": 4,
 "nbformat_minor": 5
}
