{
 "cells": [
  {
   "cell_type": "markdown",
   "id": "fc503913",
   "metadata": {},
   "source": [
    "# Python - String"
   ]
  },
  {
   "cell_type": "markdown",
   "id": "3de0f2ed",
   "metadata": {},
   "source": [
    "# Q1- How can we store a single quote (‘) as a string in a variable? "
   ]
  },
  {
   "cell_type": "markdown",
   "id": "75e024c3",
   "metadata": {},
   "source": [
    "We can store single quote (') as a string in a variable in the following ways:"
   ]
  },
  {
   "cell_type": "code",
   "execution_count": 2,
   "id": "e9f16d97",
   "metadata": {},
   "outputs": [
    {
     "name": "stdout",
     "output_type": "stream",
     "text": [
      " ' \n"
     ]
    }
   ],
   "source": [
    "#1- by using double quotes\n",
    "\n",
    "string = \" ' \"\n",
    "print(string)"
   ]
  },
  {
   "cell_type": "code",
   "execution_count": 3,
   "id": "16e9793d",
   "metadata": {},
   "outputs": [
    {
     "name": "stdout",
     "output_type": "stream",
     "text": [
      "'\n"
     ]
    }
   ],
   "source": [
    "#2- by using escape sequence\n",
    "string='\\''\n",
    "print(string)"
   ]
  },
  {
   "cell_type": "markdown",
   "id": "da809ebf",
   "metadata": {},
   "source": [
    "# Q2- Refer the below variable:\n",
    "x = 'a'\n",
    "Here,is x a character type or string type variable? Support your answer with an explanation"
   ]
  },
  {
   "cell_type": "markdown",
   "id": "5986c1cf",
   "metadata": {},
   "source": [
    "Here x is a string type variable.\n",
    "In Python, the variable x, which is assigned the value 'a', is of string type, not character type.\n",
    "Python does not have a built-in character data type.\n",
    "Instead, in Python, a single character is represented as a string of length 1. So, when you assign 'a' to the variable x, it is treated as a string containing the character 'a'.\n"
   ]
  },
  {
   "cell_type": "code",
   "execution_count": 4,
   "id": "6379b782",
   "metadata": {},
   "outputs": [
    {
     "name": "stdout",
     "output_type": "stream",
     "text": [
      "<class 'str'>\n"
     ]
    }
   ],
   "source": [
    "#We can confirm it by using type() function\n",
    "x='a'\n",
    "print(type(x))"
   ]
  },
  {
   "cell_type": "markdown",
   "id": "b8ee17ba",
   "metadata": {},
   "source": [
    "# Q3- Apply the following functions on this variable: ‘Welcome to Python foundation course'\n",
    "1.find()\n",
    "2. count()\n",
    "3. len()\n",
    "4. Concatenation\n",
    "\n",
    "Note: You can use your choice of parameters But make sure it is correct."
   ]
  },
  {
   "cell_type": "code",
   "execution_count": 5,
   "id": "fcc54455",
   "metadata": {},
   "outputs": [
    {
     "name": "stdout",
     "output_type": "stream",
     "text": [
      "11\n"
     ]
    }
   ],
   "source": [
    "variable = 'Welcome to Python foundation course'\n",
    "# Find the index of the first occurrence of 'Python'\n",
    "index = variable.find('Python')\n",
    "print(index) \n"
   ]
  },
  {
   "cell_type": "code",
   "execution_count": 7,
   "id": "46493f2f",
   "metadata": {},
   "outputs": [
    {
     "name": "stdout",
     "output_type": "stream",
     "text": [
      "6\n"
     ]
    }
   ],
   "source": [
    "variable = 'Welcome to Python foundation course'\n",
    "# Count the number of occurrences of 'o'\n",
    "count = variable.count('o')\n",
    "print(count)  \n",
    "\n"
   ]
  },
  {
   "cell_type": "code",
   "execution_count": 8,
   "id": "866ddd0e",
   "metadata": {},
   "outputs": [
    {
     "name": "stdout",
     "output_type": "stream",
     "text": [
      "35\n"
     ]
    }
   ],
   "source": [
    "variable = 'Welcome to Python foundation course'\n",
    "# Get the length of the string\n",
    "length = len(variable)\n",
    "print(length)  \n"
   ]
  },
  {
   "cell_type": "code",
   "execution_count": 9,
   "id": "e424f031",
   "metadata": {},
   "outputs": [
    {
     "name": "stdout",
     "output_type": "stream",
     "text": [
      "Welcome to Python foundation course\n"
     ]
    }
   ],
   "source": [
    "var1 = 'Welcome to Python'\n",
    "var2 = ' foundation course'\n",
    "# Concatenate the two strings\n",
    "result = var1 + var2\n",
    "print(result)  "
   ]
  },
  {
   "cell_type": "markdown",
   "id": "e6a8bd18",
   "metadata": {},
   "source": [
    "# Q4-For the var1able: word='PanaJi@12256'\n",
    "Calculate the following:\n",
    "\n",
    "      (a) Total number of alphabets in lowercase\n",
    "\n",
    "      (b) Total number of alphabets in uppercase\n",
    "\n",
    "      (c) Total number of numerical in str1ng"
   ]
  },
  {
   "cell_type": "code",
   "execution_count": 16,
   "id": "7c636a9b",
   "metadata": {},
   "outputs": [
    {
     "name": "stdout",
     "output_type": "stream",
     "text": [
      "(a) Total number of alphabets in lowercase is:4\n",
      "(b) Total number of alphabets in uppercase is:2\n",
      "(c) Total number of numerical in string is:5\n"
     ]
    }
   ],
   "source": [
    "word='PanaJi@12256'\n",
    "lowercase_count=sum(1 for char in word if char.islower())\n",
    "print(f\"(a) Total number of alphabets in lowercase is:{lowercase_count}\")\n",
    "uppercase_count=sum(1 for char in word if char.isupper())\n",
    "print(f\"(b) Total number of alphabets in uppercase is:{uppercase_count}\")\n",
    "numeric_count=sum(1 for char in word if char.isdigit())\n",
    "print(f\"(c) Total number of numerical in string is:{numeric_count}\")"
   ]
  },
  {
   "cell_type": "markdown",
   "id": "a12a6f54",
   "metadata": {},
   "source": [
    "# Q5- Write a code to store a numerical value inside a variable then convert it into string"
   ]
  },
  {
   "cell_type": "code",
   "execution_count": 19,
   "id": "2290c381",
   "metadata": {},
   "outputs": [
    {
     "name": "stdout",
     "output_type": "stream",
     "text": [
      "Initially : <class 'int'>\n",
      "After convertion: <class 'str'>\n"
     ]
    }
   ],
   "source": [
    "num_var=230\n",
    "print(\"Initially :\",type(num_var))\n",
    "num_var=str(num_var)\n",
    "print(\"After convertion:\",type(num_var))"
   ]
  },
  {
   "cell_type": "code",
   "execution_count": null,
   "id": "41c392f1",
   "metadata": {},
   "outputs": [],
   "source": []
  }
 ],
 "metadata": {
  "kernelspec": {
   "display_name": "Python 3 (ipykernel)",
   "language": "python",
   "name": "python3"
  },
  "language_info": {
   "codemirror_mode": {
    "name": "ipython",
    "version": 3
   },
   "file_extension": ".py",
   "mimetype": "text/x-python",
   "name": "python",
   "nbconvert_exporter": "python",
   "pygments_lexer": "ipython3",
   "version": "3.9.13"
  }
 },
 "nbformat": 4,
 "nbformat_minor": 5
}
