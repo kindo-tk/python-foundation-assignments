{
 "cells": [
  {
   "cell_type": "markdown",
   "id": "d29f0430",
   "metadata": {},
   "source": [
    "# Python- List"
   ]
  },
  {
   "cell_type": "markdown",
   "id": "5727d53a",
   "metadata": {},
   "source": [
    "# Q1. Create an empty list."
   ]
  },
  {
   "cell_type": "code",
   "execution_count": 1,
   "id": "5264120d",
   "metadata": {},
   "outputs": [
    {
     "data": {
      "text/plain": [
       "list"
      ]
     },
     "execution_count": 1,
     "metadata": {},
     "output_type": "execute_result"
    }
   ],
   "source": [
    "my_list=[]\n",
    "type(my_list)"
   ]
  },
  {
   "cell_type": "markdown",
   "id": "379f9a46",
   "metadata": {},
   "source": [
    "# Q2. Create a list and add an element to the end of this list."
   ]
  },
  {
   "cell_type": "code",
   "execution_count": 10,
   "id": "4fffa274",
   "metadata": {},
   "outputs": [
    {
     "name": "stdout",
     "output_type": "stream",
     "text": [
      "Original list: [32, 55, 78, 41, 2, 31, -86]\n",
      "After adding element: [32, 55, 78, 41, 2, 31, -86, 5]\n"
     ]
    }
   ],
   "source": [
    "my_list=[32,55,78,41,2,31,-86]\n",
    "print(\"Original list:\",my_list)\n",
    "my_list.append(5)\n",
    "print(\"After adding element:\",my_list)"
   ]
  },
  {
   "cell_type": "markdown",
   "id": "4953e760",
   "metadata": {},
   "source": [
    "# Q3. For the above created list print the last element."
   ]
  },
  {
   "cell_type": "code",
   "execution_count": 11,
   "id": "bd1ba606",
   "metadata": {},
   "outputs": [
    {
     "name": "stdout",
     "output_type": "stream",
     "text": [
      "The last element of the list [32, 55, 78, 41, 2, 31, -86, 5] is 5\n"
     ]
    }
   ],
   "source": [
    "print(f\"The last element of the list {my_list} is {my_list[-1]}\")"
   ]
  },
  {
   "cell_type": "markdown",
   "id": "5f82f900",
   "metadata": {},
   "source": [
    "# Q4. Reverse the above created list."
   ]
  },
  {
   "cell_type": "code",
   "execution_count": 12,
   "id": "f6b369fa",
   "metadata": {},
   "outputs": [
    {
     "name": "stdout",
     "output_type": "stream",
     "text": [
      "original list: [32, 55, 78, 41, 2, 31, -86, 5]\n",
      "After reversing: [5, -86, 31, 2, 41, 78, 55, 32]\n"
     ]
    }
   ],
   "source": [
    "print(\"original list:\",my_list)\n",
    "my_list.reverse()\n",
    "print(\"After reversing:\",my_list)\n"
   ]
  },
  {
   "cell_type": "markdown",
   "id": "0e7a16fe",
   "metadata": {},
   "source": [
    "# Q5. Sort the above created list"
   ]
  },
  {
   "cell_type": "code",
   "execution_count": 14,
   "id": "7b85168d",
   "metadata": {},
   "outputs": [
    {
     "name": "stdout",
     "output_type": "stream",
     "text": [
      "Before sorting: [-86, 2, 5, 31, 32, 41, 55, 78]\n",
      "After sorting in ascending order: [-86, 2, 5, 31, 32, 41, 55, 78]\n"
     ]
    }
   ],
   "source": [
    "print(\"Before sorting:\",my_list)\n",
    "my_list.sort()\n",
    "print(\"After sorting in ascending order:\",my_list)"
   ]
  },
  {
   "cell_type": "markdown",
   "id": "85e1251a",
   "metadata": {},
   "source": [
    "# Q6. Create a list of your top three favorite movies, then print the second movie title."
   ]
  },
  {
   "cell_type": "code",
   "execution_count": 15,
   "id": "6941a077",
   "metadata": {},
   "outputs": [
    {
     "name": "stdout",
     "output_type": "stream",
     "text": [
      "Alaipayuthey\n"
     ]
    }
   ],
   "source": [
    "movie_list=[\"Hridayam\",\"Alaipayuthey\",\"Asuran\"]\n",
    "print(movie_list[1])"
   ]
  },
  {
   "cell_type": "markdown",
   "id": "f8fdc23f",
   "metadata": {},
   "source": [
    "# Q7. Create a list of your favorite animals, then add a new animal to the list and print the updated list."
   ]
  },
  {
   "cell_type": "code",
   "execution_count": 17,
   "id": "fafd1646",
   "metadata": {},
   "outputs": [
    {
     "name": "stdout",
     "output_type": "stream",
     "text": [
      "original list: ['dog', 'cow', 'cat', 'donkey', 'pig']\n",
      "updated list: ['dog', 'cow', 'cat', 'donkey', 'pig', 'horse']\n"
     ]
    }
   ],
   "source": [
    "animal_list=[\"dog\",\"cow\",\"cat\",\"donkey\",\"pig\"]\n",
    "print(\"original list:\",animal_list)\n",
    "animal_list.append(\"horse\")\n",
    "print(\"updated list:\",animal_list)"
   ]
  },
  {
   "cell_type": "markdown",
   "id": "d49153fb",
   "metadata": {},
   "source": [
    "# Q8. Create a list of your favorite cities, then use the index() method to find the position of a specific city on the list and print it"
   ]
  },
  {
   "cell_type": "code",
   "execution_count": 20,
   "id": "1a2bafd1",
   "metadata": {},
   "outputs": [
    {
     "name": "stdout",
     "output_type": "stream",
     "text": [
      "Position of the city'Varanashi' in the list is 3\n"
     ]
    }
   ],
   "source": [
    "city_list=[\"Kolkata\",\"Delhi\",\"Bankura\",\"Varanashi\",\"Hyderabad\",\"Chennai\",\"Madurai\"]\n",
    "pos=city_list.index(\"Varanashi\")\n",
    "print(f\"Position of the city'Varanashi' in the list is {pos}\")"
   ]
  },
  {
   "cell_type": "code",
   "execution_count": null,
   "id": "70c71ad8",
   "metadata": {},
   "outputs": [],
   "source": []
  }
 ],
 "metadata": {
  "kernelspec": {
   "display_name": "Python 3 (ipykernel)",
   "language": "python",
   "name": "python3"
  },
  "language_info": {
   "codemirror_mode": {
    "name": "ipython",
    "version": 3
   },
   "file_extension": ".py",
   "mimetype": "text/x-python",
   "name": "python",
   "nbconvert_exporter": "python",
   "pygments_lexer": "ipython3",
   "version": "3.9.13"
  }
 },
 "nbformat": 4,
 "nbformat_minor": 5
}
