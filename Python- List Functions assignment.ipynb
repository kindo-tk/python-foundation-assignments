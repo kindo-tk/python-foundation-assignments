{
 "cells": [
  {
   "cell_type": "markdown",
   "id": "3fe1613a",
   "metadata": {},
   "source": [
    "# Python- List Functions"
   ]
  },
  {
   "cell_type": "markdown",
   "id": "ca72c8a5",
   "metadata": {},
   "source": [
    "# Q1. What is the syntax for adding an element to a list in Python?"
   ]
  },
  {
   "cell_type": "code",
   "execution_count": 3,
   "id": "f660cf3f",
   "metadata": {},
   "outputs": [
    {
     "name": "stdout",
     "output_type": "stream",
     "text": [
      "Original list: [1, 2, 3, 4]\n",
      "Updated list: [1, 2, 3, 4, 5]\n"
     ]
    }
   ],
   "source": [
    "#we can add an element to the end of a list by append() method\n",
    "my_list=[1,2,3,4]\n",
    "print(\"Original list:\",my_list)\n",
    "my_list.append(5)\n",
    "print(\"Updated list:\",my_list)\n"
   ]
  },
  {
   "cell_type": "markdown",
   "id": "7aeec519",
   "metadata": {},
   "source": [
    "# Q2. What is the difference between remove() and pop() functions in Python?"
   ]
  },
  {
   "cell_type": "code",
   "execution_count": null,
   "id": "661c672b",
   "metadata": {},
   "outputs": [],
   "source": [
    "'''\n",
    "remove():\n",
    "\n",
    "It removes the first occurrence of a specified element from the list.\n",
    "Raises a ValueError if the element is not found in the list.\n",
    "Does not return the removed element; it simply modifies the list.\n",
    "\n",
    "pop():\n",
    "\n",
    "it removes and returns the element at a specified index. If no index is provided, it removes and returns the last element\n",
    "'''"
   ]
  },
  {
   "cell_type": "code",
   "execution_count": 5,
   "id": "69ccde5a",
   "metadata": {},
   "outputs": [
    {
     "name": "stdout",
     "output_type": "stream",
     "text": [
      "[2, 3, 1, 4, 2, 4, 1, 4, 6, 8]\n"
     ]
    }
   ],
   "source": [
    "#remove()\n",
    "my_list=[1,2,3,1,4,2,4,1,4,6,8]\n",
    "my_list.remove(1)           #removes the first occurence of 1 from the list\n",
    "print(my_list)"
   ]
  },
  {
   "cell_type": "code",
   "execution_count": 7,
   "id": "50adf76f",
   "metadata": {},
   "outputs": [
    {
     "name": "stdout",
     "output_type": "stream",
     "text": [
      "[1, 2, 3, 1, 4, 2, 4, 1, 4, 6] popped item: 8\n",
      "[1, 2, 3, 1, 2, 4, 1, 4, 6] popped item: 4\n"
     ]
    }
   ],
   "source": [
    "#pop()\n",
    "my_list=[1,2,3,1,4,2,4,1,4,6,8]\n",
    "popped_item=my_list.pop()           #removes the last elemnt from the list and returns the popped element \n",
    "print(my_list,\"popped item:\",popped_item)\n",
    "popped_item=my_list.pop(4)           #removes the 5th element from the list and stores the value in the variable\n",
    "print(my_list,\"popped item:\",popped_item)"
   ]
  },
  {
   "cell_type": "markdown",
   "id": "67439335",
   "metadata": {},
   "source": [
    "# Q3. Write a Python code to sort a list in descending order."
   ]
  },
  {
   "cell_type": "code",
   "execution_count": 9,
   "id": "6d554cc1",
   "metadata": {},
   "outputs": [
    {
     "name": "stdout",
     "output_type": "stream",
     "text": [
      "original list: [12, 54, -85, 2, 1, 54, 75, 63, 52]\n",
      "Sorted list in descending order: [75, 63, 54, 54, 52, 12, 2, 1, -85]\n"
     ]
    }
   ],
   "source": [
    "my_list=[12,54,-85,2,1,54,75,63,52]\n",
    "print(\"original list:\",my_list)\n",
    "my_list.sort(reverse=True)\n",
    "print(\"Sorted list in descending order:\",my_list)"
   ]
  },
  {
   "cell_type": "markdown",
   "id": "854d53f1",
   "metadata": {},
   "source": [
    "# Q4. Write a Python code to count the number of occurrences of an element in a list."
   ]
  },
  {
   "cell_type": "code",
   "execution_count": 10,
   "id": "ea6b2995",
   "metadata": {},
   "outputs": [
    {
     "name": "stdout",
     "output_type": "stream",
     "text": [
      "Enter the element whose number of occurence is to be counted:5\n",
      "The element 5 occurs 3 times in the list\n"
     ]
    }
   ],
   "source": [
    "my_list=[2,4,5,6,1,2,3,4,5,6,7,8,12,3,4,5,67,6,7,8]\n",
    "n=int(input(\"Enter the element whose number of occurence is to be counted:\"))\n",
    "count=my_list.count(n)\n",
    "print(f\"The element {n} occurs {count} times in the list\")"
   ]
  },
  {
   "cell_type": "markdown",
   "id": "31551c4f",
   "metadata": {},
   "source": [
    "# Q5. Write a Python code to reverse a list. "
   ]
  },
  {
   "cell_type": "code",
   "execution_count": 11,
   "id": "109266df",
   "metadata": {},
   "outputs": [
    {
     "name": "stdout",
     "output_type": "stream",
     "text": [
      "Original list: [2, 4, 5, 6, 1, 2, 3, 4, 5, 6, 7, 8, 12, 3, 4, 5, 67, 6, 7, 8]\n",
      "Reversed list: [8, 7, 6, 67, 5, 4, 3, 12, 8, 7, 6, 5, 4, 3, 2, 1, 6, 5, 4, 2]\n"
     ]
    }
   ],
   "source": [
    "my_list=[2,4,5,6,1,2,3,4,5,6,7,8,12,3,4,5,67,6,7,8]\n",
    "print(\"Original list:\",my_list)\n",
    "my_list.reverse()\n",
    "print(\"Reversed list:\",my_list)"
   ]
  },
  {
   "cell_type": "code",
   "execution_count": null,
   "id": "4c310c5c",
   "metadata": {},
   "outputs": [],
   "source": []
  }
 ],
 "metadata": {
  "kernelspec": {
   "display_name": "Python 3 (ipykernel)",
   "language": "python",
   "name": "python3"
  },
  "language_info": {
   "codemirror_mode": {
    "name": "ipython",
    "version": 3
   },
   "file_extension": ".py",
   "mimetype": "text/x-python",
   "name": "python",
   "nbconvert_exporter": "python",
   "pygments_lexer": "ipython3",
   "version": "3.9.13"
  }
 },
 "nbformat": 4,
 "nbformat_minor": 5
}
