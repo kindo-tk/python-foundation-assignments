{
 "cells": [
  {
   "cell_type": "markdown",
   "id": "25e004d4",
   "metadata": {},
   "source": [
    "# Python- Variables\n"
   ]
  },
  {
   "cell_type": "markdown",
   "id": "3e40a23c",
   "metadata": {},
   "source": [
    "# Q1. Write all the conventions being followed while declaring a variable"
   ]
  },
  {
   "cell_type": "markdown",
   "id": "8d2b201b",
   "metadata": {},
   "source": [
    "The conventions that are being followed while declaring a variable are:\n",
    "1-A variable name must start with a letter or the underscore character\n",
    "2-A variable name cannot start with a number\n",
    "3-A variable name can only contain alpha-numeric characters and underscores (A-z, 0-9, and _ )\n",
    "4-Variable names are case-sensitive (age, Age and AGE are three different variables)\n",
    "5-A variable name cannot be a reserved keyword."
   ]
  },
  {
   "cell_type": "markdown",
   "id": "a0040375",
   "metadata": {},
   "source": [
    "# Q2. What will happen if we declare a restricted keyword as a variable?"
   ]
  },
  {
   "cell_type": "markdown",
   "id": "9162ac24",
   "metadata": {},
   "source": [
    "\n",
    "If we declare a variable using a restricted keyword, we will encounter a syntax error, and your code will not run"
   ]
  },
  {
   "cell_type": "code",
   "execution_count": 4,
   "id": "16c8ddf0",
   "metadata": {},
   "outputs": [
    {
     "ename": "SyntaxError",
     "evalue": "invalid syntax (3270978111.py, line 2)",
     "output_type": "error",
     "traceback": [
      "\u001b[1;36m  File \u001b[1;32m\"C:\\Users\\TUFAN\\AppData\\Local\\Temp\\ipykernel_7284\\3270978111.py\"\u001b[1;36m, line \u001b[1;32m2\u001b[0m\n\u001b[1;33m    and = 345\u001b[0m\n\u001b[1;37m    ^\u001b[0m\n\u001b[1;31mSyntaxError\u001b[0m\u001b[1;31m:\u001b[0m invalid syntax\n"
     ]
    }
   ],
   "source": [
    "#For example:\n",
    "and = 345"
   ]
  },
  {
   "cell_type": "markdown",
   "id": "aa3da944",
   "metadata": {},
   "source": [
    "# Q3. Can we actually declare a string as a variable name?"
   ]
  },
  {
   "cell_type": "markdown",
   "id": "9a743f01",
   "metadata": {},
   "source": [
    "Yes, we can declare a string as a variable name by the following methods\n",
    "1-exec() method\n",
    "2-locals() function\n",
    "3-globals() function"
   ]
  },
  {
   "cell_type": "code",
   "execution_count": 8,
   "id": "fe0328a2",
   "metadata": {},
   "outputs": [
    {
     "name": "stdout",
     "output_type": "stream",
     "text": [
      "output :  5000\n"
     ]
    }
   ],
   "source": [
    "#eg using exec method\n",
    "\n",
    "#input String\n",
    "str = \"variable\"\n",
    " \n",
    "#applying exec() method\n",
    "\n",
    "exec(\"%s = %d\" % (str,5000))\n",
    " \n",
    "#print string\n",
    "\n",
    "print(\"output : \",variable)"
   ]
  },
  {
   "cell_type": "code",
   "execution_count": 9,
   "id": "1d45cb2f",
   "metadata": {},
   "outputs": [
    {
     "name": "stdout",
     "output_type": "stream",
     "text": [
      "5000\n"
     ]
    }
   ],
   "source": [
    "#eg using locals() function\n",
    "str = \"variable\"\n",
    " \n",
    "locals()[str] = 5000\n",
    "print(variable)"
   ]
  },
  {
   "cell_type": "code",
   "execution_count": 10,
   "id": "0ada26cd",
   "metadata": {},
   "outputs": [
    {
     "name": "stdout",
     "output_type": "stream",
     "text": [
      "5000\n"
     ]
    }
   ],
   "source": [
    "#eg using globals() function\n",
    "str = \"variable\"\n",
    " \n",
    "globals()[str] = 5000\n",
    "print(variable)"
   ]
  },
  {
   "cell_type": "markdown",
   "id": "18a4e576",
   "metadata": {},
   "source": [
    "# Q4. Is it possible for us to declare “_” as a variable? If so, then write an example of it."
   ]
  },
  {
   "cell_type": "markdown",
   "id": "59f725d3",
   "metadata": {},
   "source": [
    "Yes, it is possible to declare _ as a variable."
   ]
  },
  {
   "cell_type": "code",
   "execution_count": 13,
   "id": "d6356a08",
   "metadata": {},
   "outputs": [
    {
     "name": "stdout",
     "output_type": "stream",
     "text": [
      "underscore\n"
     ]
    }
   ],
   "source": [
    "#eg:\n",
    "\n",
    "_ = \"underscore\"\n",
    "print(_)"
   ]
  },
  {
   "cell_type": "markdown",
   "id": "53db30e5",
   "metadata": {},
   "source": [
    "# Q5. Using an example, explain how the variables in python are dynamic in nature."
   ]
  },
  {
   "cell_type": "markdown",
   "id": "e8467661",
   "metadata": {},
   "source": [
    "\n",
    "Python is a dynamically typed language, which means that we don't need to declare the data type of a variable explicitly when we create it. Instead, Python determines the variable's data type dynamically at runtime based on the value assigned to it."
   ]
  },
  {
   "cell_type": "code",
   "execution_count": 14,
   "id": "8b054cc5",
   "metadata": {},
   "outputs": [
    {
     "name": "stdout",
     "output_type": "stream",
     "text": [
      "25\n",
      "Hello World\n",
      "[1, 2, 3]\n"
     ]
    }
   ],
   "source": [
    "#for example:\n",
    "my_variable = 25  # Assign an integer\n",
    "print(my_variable) \n",
    "\n",
    "my_variable = \"Hello World\"  # Reassign with a string\n",
    "print(my_variable)  \n",
    "\n",
    "my_variable = [1, 2, 3]  # Reassign with a list\n",
    "print(my_variable) "
   ]
  },
  {
   "cell_type": "code",
   "execution_count": null,
   "id": "e980d6a1",
   "metadata": {},
   "outputs": [],
   "source": []
  }
 ],
 "metadata": {
  "kernelspec": {
   "display_name": "Python 3 (ipykernel)",
   "language": "python",
   "name": "python3"
  },
  "language_info": {
   "codemirror_mode": {
    "name": "ipython",
    "version": 3
   },
   "file_extension": ".py",
   "mimetype": "text/x-python",
   "name": "python",
   "nbconvert_exporter": "python",
   "pygments_lexer": "ipython3",
   "version": "3.9.13"
  }
 },
 "nbformat": 4,
 "nbformat_minor": 5
}
