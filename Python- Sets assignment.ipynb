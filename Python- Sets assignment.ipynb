{
 "cells": [
  {
   "cell_type": "markdown",
   "id": "5f059492",
   "metadata": {},
   "source": [
    "# Python- Sets"
   ]
  },
  {
   "cell_type": "markdown",
   "id": "4c6d5d19",
   "metadata": {},
   "source": [
    "# Q1. What is a set in Python?"
   ]
  },
  {
   "cell_type": "markdown",
   "id": "c818e350",
   "metadata": {},
   "source": [
    "A set is a built-in data typoe in python that is used to store unordered collection of unique elements."
   ]
  },
  {
   "cell_type": "markdown",
   "id": "dacbe0b6",
   "metadata": {},
   "source": [
    "# Q2.How do you create a set in Python?"
   ]
  },
  {
   "cell_type": "markdown",
   "id": "4fbdda6a",
   "metadata": {},
   "source": [
    "Sets are typically defined by enclosing their elements in curly braces {} or by using the set() constructor."
   ]
  },
  {
   "cell_type": "code",
   "execution_count": 1,
   "id": "66a78952",
   "metadata": {},
   "outputs": [
    {
     "name": "stdout",
     "output_type": "stream",
     "text": [
      "{1, 2, 3} <class 'set'>\n",
      "{1, 2, 3} <class 'set'>\n"
     ]
    }
   ],
   "source": [
    "#For example\n",
    "set1={1, 2, 3}\n",
    "set2=set([1, 2, 3])\n",
    "print(set1,type(set1))\n",
    "print(set2,type(set2))"
   ]
  },
  {
   "cell_type": "markdown",
   "id": "96ef121b",
   "metadata": {},
   "source": [
    "# Q3. How do you add elements to a set in Python?"
   ]
  },
  {
   "cell_type": "code",
   "execution_count": 2,
   "id": "df7e4848",
   "metadata": {},
   "outputs": [
    {
     "name": "stdout",
     "output_type": "stream",
     "text": [
      "updated set {1, 2, 4, 5, 6, 7}\n"
     ]
    }
   ],
   "source": [
    "#using add() method we can add a single elemnt at a time to the set\n",
    "set1={1,2,4,5,6}\n",
    "set1.add(7)\n",
    "print(\"updated set\",set1)"
   ]
  },
  {
   "cell_type": "code",
   "execution_count": 3,
   "id": "e1e4d73f",
   "metadata": {},
   "outputs": [
    {
     "name": "stdout",
     "output_type": "stream",
     "text": [
      "Updated set {1, 2, 66, 4, 5, 6, 7, 77, 87, 55}\n"
     ]
    }
   ],
   "source": [
    "#using update method we can add multiple elements to a set\n",
    "l=[77,66,55,87]\n",
    "set1.update(l)\n",
    "print(\"Updated set\",set1)"
   ]
  },
  {
   "cell_type": "markdown",
   "id": "bc38389c",
   "metadata": {},
   "source": [
    "# Q4. How do you remove elements from a set in Python?"
   ]
  },
  {
   "cell_type": "code",
   "execution_count": 5,
   "id": "eb466dd3",
   "metadata": {},
   "outputs": [
    {
     "name": "stdout",
     "output_type": "stream",
     "text": [
      "{1, 2, 4}\n"
     ]
    }
   ],
   "source": [
    "'''\n",
    "1.Using remove() method:\n",
    "The remove() method removes a specific element from the set. \n",
    "If the element is not found in the set, it raises a KeyError exception.\n",
    "'''\n",
    "my_set = {1, 2, 3, 4}\n",
    "my_set.remove(3) #removes the element 3 from the set\n",
    "print(my_set) \n"
   ]
  },
  {
   "cell_type": "code",
   "execution_count": 6,
   "id": "835e9dd9",
   "metadata": {},
   "outputs": [
    {
     "name": "stdout",
     "output_type": "stream",
     "text": [
      "{1, 2, 4}\n"
     ]
    }
   ],
   "source": [
    "'''\n",
    "2-Using discard() method:\n",
    "The discard() method also removes a specific element from the set.\n",
    "However, if the element is not found in the set, it does nothing (no error is raised).\n",
    "'''\n",
    "my_set = {1, 2, 3, 4}\n",
    "my_set.discard(3) #removes the element 3 from the set\n",
    "print(my_set)"
   ]
  },
  {
   "cell_type": "code",
   "execution_count": 7,
   "id": "5d615caa",
   "metadata": {},
   "outputs": [
    {
     "name": "stdout",
     "output_type": "stream",
     "text": [
      "{2, 3, 4}\n",
      "1\n"
     ]
    }
   ],
   "source": [
    "'''\n",
    "3-Using pop() method:\n",
    "The pop() method removes and returns an arbitrary element from the set. \n",
    "Since sets are unordered, we cannot predict which element will be removed.\n",
    "'''\n",
    "my_set = {1, 2, 3, 4}\n",
    "removed_element = my_set.pop()\n",
    "print(my_set)           \n",
    "print(removed_element)  \n"
   ]
  },
  {
   "cell_type": "code",
   "execution_count": 8,
   "id": "d9361f7e",
   "metadata": {},
   "outputs": [
    {
     "name": "stdout",
     "output_type": "stream",
     "text": [
      "set()\n"
     ]
    }
   ],
   "source": [
    "'''\n",
    "4-Using clear() method:\n",
    "The clear() method removes all elements from the set, leaving an empty set.\n",
    "'''\n",
    "my_set = {1, 2, 3, 4}\n",
    "my_set.clear()\n",
    "print(my_set) \n"
   ]
  },
  {
   "cell_type": "markdown",
   "id": "89e4b9bc",
   "metadata": {},
   "source": [
    "# Q5. How do you get the length of a set in Python?"
   ]
  },
  {
   "cell_type": "code",
   "execution_count": 10,
   "id": "2d9616e8",
   "metadata": {},
   "outputs": [
    {
     "name": "stdout",
     "output_type": "stream",
     "text": [
      "Length of the set is: 9\n"
     ]
    }
   ],
   "source": [
    "'''We get the length of a set in python by using the builtin function len()'''\n",
    "\n",
    "my_set={1,2,3,5,6,7,8,4,25}\n",
    "print(\"Length of the set is:\",len(my_set))"
   ]
  },
  {
   "cell_type": "code",
   "execution_count": null,
   "id": "50742556",
   "metadata": {},
   "outputs": [],
   "source": []
  }
 ],
 "metadata": {
  "kernelspec": {
   "display_name": "Python 3 (ipykernel)",
   "language": "python",
   "name": "python3"
  },
  "language_info": {
   "codemirror_mode": {
    "name": "ipython",
    "version": 3
   },
   "file_extension": ".py",
   "mimetype": "text/x-python",
   "name": "python",
   "nbconvert_exporter": "python",
   "pygments_lexer": "ipython3",
   "version": "3.9.13"
  }
 },
 "nbformat": 4,
 "nbformat_minor": 5
}
